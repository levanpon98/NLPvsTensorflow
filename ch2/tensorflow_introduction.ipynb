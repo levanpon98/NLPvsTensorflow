{
 "cells": [
  {
   "cell_type": "markdown",
   "metadata": {},
   "source": [
    "## Importing Required Libraries"
   ]
  },
  {
   "cell_type": "code",
   "execution_count": 5,
   "metadata": {},
   "outputs": [],
   "source": [
    "import tensorflow as tf\n",
    "import numpy as np\n",
    "import os\n",
    "import matplotlib.pyplot as plt\n",
    "# Config the matplotlib backend as plotting inline in IPython\n",
    "%matplotlib inline"
   ]
  },
  {
   "cell_type": "markdown",
   "metadata": {},
   "source": [
    "## Sigmoid Example - Feeding inputs with a Placeholder\n",
    "Here we calculate the sigmoid example by feeding in inputs with a placeholder"
   ]
  },
  {
   "cell_type": "code",
   "execution_count": 14,
   "metadata": {},
   "outputs": [
    {
     "name": "stdout",
     "output_type": "stream",
     "text": [
      "[[0.4975787  0.47808045 0.46733978 0.44486323 0.5390087 ]]\n"
     ]
    }
   ],
   "source": [
    "# Defining the graph and session\n",
    "graph = tf.Graph() # Creates a graph\n",
    "session = tf.compat.v1.InteractiveSession(graph=graph) # Creates a session\n",
    "\n",
    "# Building the graph\n",
    "\n",
    "# A placeholder is an symbolic input\n",
    "x = tf.compat.v1.placeholder(shape=[1,10],dtype=tf.float32,name='x') \n",
    "\n",
    "# Variable\n",
    "W = tf.Variable(tf.random.uniform(shape=[10,5], minval=-0.1, maxval=0.1, dtype=tf.float32),name='W') \n",
    "# Variable\n",
    "b = tf.Variable(tf.zeros(shape=[5],dtype=tf.float32),name='b') \n",
    "\n",
    "h = tf.nn.sigmoid(tf.matmul(x,W) + b) # Operation to be performed\n",
    "\n",
    "# Executing operations and evaluating nodes in the graph\n",
    "tf.compat.v1.global_variables_initializer().run() # Initialize the variables\n",
    "\n",
    "# Run the operation by providing a value to the symbolic input x\n",
    "h_eval = session.run(h,feed_dict={x: np.random.rand(1,10)}) \n",
    "print(h_eval)\n",
    "session.close() # Frees all the resources associated with the session\n"
   ]
  },
  {
   "cell_type": "code",
   "execution_count": null,
   "metadata": {},
   "outputs": [],
   "source": []
  },
  {
   "cell_type": "markdown",
   "metadata": {},
   "source": [
    "## Feeding inputs as Tensorflow tensors\n",
    "\n",
    "Now we make the same calculations with the input as an immutable tensor"
   ]
  },
  {
   "cell_type": "code",
   "execution_count": 18,
   "metadata": {},
   "outputs": [
    {
     "name": "stdout",
     "output_type": "stream",
     "text": [
      "[[0.49578154 0.540407   0.4693499  0.47338086 0.48087513]]\n"
     ]
    }
   ],
   "source": [
    "# Defining the graph and session\n",
    "graph = tf.Graph() # Creates a graph\n",
    "session = tf.compat.v1.InteractiveSession(graph=graph) # Creates a session\n",
    "\n",
    "# Building the graph\n",
    "\n",
    "# A pre-loaded input\n",
    "x = tf.constant(value=[[0.1,0.2,0.3,0.4,0.5,0.6,0.7,0.8,0.9,1.0]],dtype=tf.float32,name='x') \n",
    "\n",
    "# Variable\n",
    "W = tf.Variable(tf.random.uniform(shape=[10,5], minval=-0.1, maxval=0.1, dtype=tf.float32),name='W') \n",
    "# Variable\n",
    "b = tf.Variable(tf.zeros(shape=[5],dtype=tf.float32),name='b') \n",
    "\n",
    "h = tf.nn.sigmoid(tf.matmul(x,W) + b) # Operation to be performed\n",
    "\n",
    "# Executing operations and evaluating nodes in the graph\n",
    "tf.compat.v1.global_variables_initializer().run() # Initialize the variables\n",
    "\n",
    "# Run the operation without feed_dict\n",
    "h_eval = session.run(h) \n",
    "print(h_eval)\n",
    "\n",
    "# Closes the session to free any held resources by the session\n",
    "session.close()"
   ]
  },
  {
   "cell_type": "markdown",
   "metadata": {},
   "source": [
    "## Creating a Tensorflow Data Pipeline\n",
    "We now create a data pipleline to read inputs. Data pipeline is an efficient way of reading data when you have to read lots of data stored externally."
   ]
  },
  {
   "cell_type": "code",
   "execution_count": 25,
   "metadata": {},
   "outputs": [
    {
     "name": "stdout",
     "output_type": "stream",
     "text": [
      "File test1.txt found.\n",
      "File test2.txt found.\n",
      "File test3.txt found.\n",
      "========== Step 0 ==========\n",
      "Evaluated data (x)\n",
      "[[0.1 0.2 0.3 0.4 0.5 0.6 0.7 0.8 0.9 1. ]\n",
      " [0.1 0.2 0.3 0.4 0.5 0.6 0.7 0.8 0.9 1. ]\n",
      " [0.1 0.2 0.3 0.4 0.5 0.6 0.7 0.8 0.9 1. ]]\n",
      "Evaluated data (h)\n",
      "[[0.47966337 0.48932153 0.5129609  0.51701057 0.57287645]\n",
      " [0.47966337 0.48932153 0.5129609  0.51701057 0.57287645]\n",
      " [0.47966337 0.48932156 0.5129609  0.51701057 0.57287645]]\n",
      "\n",
      "========== Step 1 ==========\n",
      "Evaluated data (x)\n",
      "[[1.  0.9 0.8 0.7 0.6 0.5 0.4 0.3 0.2 0.1]\n",
      " [0.1 0.2 0.3 0.4 0.5 0.6 0.7 0.8 0.9 1. ]\n",
      " [1.  0.9 0.8 0.7 0.6 0.5 0.4 0.3 0.2 0.1]]\n",
      "Evaluated data (h)\n",
      "[[0.5083695  0.5151014  0.47833923 0.5101202  0.5518935 ]\n",
      " [0.47966337 0.48932153 0.5129609  0.51701057 0.57287645]\n",
      " [0.50836957 0.51510143 0.47833923 0.51012015 0.5518934 ]]\n",
      "\n",
      "========== Step 2 ==========\n",
      "Evaluated data (x)\n",
      "[[0.1 0.2 0.3 0.4 0.5 0.6 0.7 0.8 0.9 1. ]\n",
      " [1.  0.9 0.8 0.7 0.6 0.5 0.4 0.3 0.2 0.1]\n",
      " [1.  0.9 0.8 0.7 0.6 0.5 0.4 0.3 0.2 0.1]]\n",
      "Evaluated data (h)\n",
      "[[0.47966337 0.48932153 0.5129609  0.51701057 0.57287645]\n",
      " [0.5083695  0.5151014  0.47833923 0.51012015 0.5518934 ]\n",
      " [0.50836957 0.51510143 0.47833923 0.51012015 0.5518934 ]]\n",
      "\n",
      "========== Step 3 ==========\n",
      "Evaluated data (x)\n",
      "[[1.  0.9 0.8 0.7 0.6 0.5 0.4 0.3 0.2 0.1]\n",
      " [0.1 0.1 0.1 0.1 0.1 0.1 0.1 0.1 0.1 0.1]\n",
      " [0.1 0.1 0.1 0.1 0.1 0.1 0.1 0.1 0.1 0.1]]\n",
      "Evaluated data (h)\n",
      "[[0.5083695  0.5151014  0.47833923 0.5101202  0.5518935 ]\n",
      " [0.49891114 0.50040233 0.49920812 0.50246716 0.5114053 ]\n",
      " [0.49891114 0.50040233 0.49920815 0.50246716 0.5114053 ]]\n",
      "\n",
      "========== Step 4 ==========\n",
      "Evaluated data (x)\n",
      "[[0.1 0.2 0.3 0.4 0.5 0.6 0.7 0.8 0.9 1. ]\n",
      " [0.1 0.1 0.1 0.1 0.1 0.1 0.1 0.1 0.1 0.1]\n",
      " [0.1 0.2 0.3 0.4 0.5 0.6 0.7 0.8 0.9 1. ]]\n",
      "Evaluated data (h)\n",
      "[[0.47966337 0.48932153 0.5129609  0.51701057 0.57287645]\n",
      " [0.49891114 0.50040233 0.49920812 0.50246716 0.5114053 ]\n",
      " [0.47966337 0.48932156 0.5129609  0.51701057 0.57287645]]\n",
      "\n",
      "========== Step 5 ==========\n",
      "Evaluated data (x)\n",
      "[[0.1 0.2 0.3 0.4 0.5 0.6 0.7 0.8 0.9 1. ]\n",
      " [0.1 0.2 0.3 0.4 0.5 0.6 0.7 0.8 0.9 1. ]\n",
      " [0.1 0.1 0.1 0.1 0.1 0.1 0.1 0.1 0.1 0.1]]\n",
      "Evaluated data (h)\n",
      "[[0.47966337 0.48932153 0.5129609  0.51701057 0.57287645]\n",
      " [0.47966337 0.48932153 0.5129609  0.51701057 0.57287645]\n",
      " [0.49891114 0.50040233 0.49920815 0.50246716 0.5114053 ]]\n",
      "\n",
      "========== Step 6 ==========\n",
      "Evaluated data (x)\n",
      "[[1.  0.9 0.8 0.7 0.6 0.5 0.4 0.3 0.2 0.1]\n",
      " [0.1 0.2 0.3 0.4 0.5 0.6 0.7 0.8 0.9 1. ]\n",
      " [1.  0.9 0.8 0.7 0.6 0.5 0.4 0.3 0.2 0.1]]\n",
      "Evaluated data (h)\n",
      "[[0.5083695  0.5151014  0.47833923 0.5101202  0.5518935 ]\n",
      " [0.47966337 0.48932153 0.5129609  0.51701057 0.57287645]\n",
      " [0.50836957 0.51510143 0.47833923 0.51012015 0.5518934 ]]\n",
      "\n",
      "========== Step 7 ==========\n",
      "Evaluated data (x)\n",
      "[[0.1 0.1 0.1 0.1 0.1 0.1 0.1 0.1 0.1 0.1]\n",
      " [1.  0.9 0.8 0.7 0.6 0.5 0.4 0.3 0.2 0.1]\n",
      " [1.  0.9 0.8 0.7 0.6 0.5 0.4 0.3 0.2 0.1]]\n",
      "Evaluated data (h)\n",
      "[[0.49891114 0.50040233 0.49920812 0.50246716 0.5114053 ]\n",
      " [0.5083695  0.5151014  0.47833923 0.51012015 0.5518934 ]\n",
      " [0.50836957 0.51510143 0.47833923 0.51012015 0.5518934 ]]\n",
      "\n",
      "========== Step 8 ==========\n",
      "Evaluated data (x)\n",
      "[[1.  0.9 0.8 0.7 0.6 0.5 0.4 0.3 0.2 0.1]\n",
      " [0.1 0.1 0.1 0.1 0.1 0.1 0.1 0.1 0.1 0.1]\n",
      " [0.1 0.1 0.1 0.1 0.1 0.1 0.1 0.1 0.1 0.1]]\n",
      "Evaluated data (h)\n",
      "[[0.5083695  0.5151014  0.47833923 0.5101202  0.5518935 ]\n",
      " [0.49891114 0.50040233 0.49920812 0.50246716 0.5114053 ]\n",
      " [0.49891114 0.50040233 0.49920815 0.50246716 0.5114053 ]]\n",
      "\n",
      "========== Step 9 ==========\n",
      "Evaluated data (x)\n",
      "[[0.1 0.1 0.1 0.1 0.1 0.1 0.1 0.1 0.1 0.1]\n",
      " [0.1 0.1 0.1 0.1 0.1 0.1 0.1 0.1 0.1 0.1]\n",
      " [1.  0.9 0.8 0.7 0.6 0.5 0.4 0.3 0.2 0.1]]\n",
      "Evaluated data (h)\n",
      "[[0.49891114 0.50040233 0.49920812 0.50246716 0.5114053 ]\n",
      " [0.49891114 0.50040233 0.49920812 0.50246716 0.5114053 ]\n",
      " [0.50836957 0.51510143 0.47833923 0.51012015 0.5518934 ]]\n",
      "\n"
     ]
    }
   ],
   "source": [
    "\n",
    "# Defining the graph and session\n",
    "graph = tf.Graph() # Creates a graph\n",
    "session = tf.compat.v1.InteractiveSession(graph=graph) # Creates a session\n",
    "\n",
    "# The filename queue\n",
    "filenames = ['test%d.txt'%i for i in range(1,4)]\n",
    "filename_queue = tf.compat.v1.train.string_input_producer(filenames, capacity=3, shuffle=True,name='string_input_producer')\n",
    "\n",
    "# check if all files are there\n",
    "for f in filenames:\n",
    "    if not tf.compat.v1.gfile.Exists(f):\n",
    "        raise ValueError('Failed to find file: ' + f)\n",
    "    else:\n",
    "        print('File %s found.'%f)\n",
    "\n",
    "# Reader which takes a filename queue and \n",
    "# read() which outputs data one by one\n",
    "reader = tf.compat.v1.TextLineReader()\n",
    "\n",
    "# ready the data of the file and output as key,value pairs \n",
    "# We're discarding the key\n",
    "key, value = reader.read(filename_queue, name='text_read_op')\n",
    "\n",
    "# if any problems encountered with reading file \n",
    "# this is the value returned\n",
    "record_defaults = [[-1.0], [-1.0], [-1.0], [-1.0], [-1.0], [-1.0], [-1.0], [-1.0], [-1.0], [-1.0]]\n",
    "\n",
    "# decoding the read value to columns\n",
    "col1, col2, col3, col4, col5, col6, col7, col8, col9, col10 = tf.compat.v1.decode_csv(value, record_defaults=record_defaults)\n",
    "features = tf.stack([col1, col2, col3, col4, col5, col6, col7, col8, col9, col10])\n",
    "\n",
    "# output x is randomly assigned a batch of data of batch_size \n",
    "# where the data is read from the txt files\n",
    "x = tf.compat.v1.train.shuffle_batch([features], batch_size=3,\n",
    "                           capacity=5, name='data_batch', \n",
    "                           min_after_dequeue=1,num_threads=1)\n",
    "\n",
    "# QueueRunner retrieve data from queues and we need to explicitly start them\n",
    "# Coordinator coordinates multiple QueueRunners\n",
    "coord = tf.compat.v1.train.Coordinator()\n",
    "threads = tf.compat.v1.train.start_queue_runners(coord=coord, sess=session)\n",
    "\n",
    "# Building the graph by defining the variables and calculations\n",
    "\n",
    "W = tf.Variable(tf.random.uniform(shape=[10,5], minval=-0.1, maxval=0.1, dtype=tf.float32),name='W') # Variable\n",
    "b = tf.Variable(tf.zeros(shape=[5],dtype=tf.float32),name='b') # Variable\n",
    "\n",
    "h = tf.nn.sigmoid(tf.matmul(x,W) + b) # Operation to be performed\n",
    "\n",
    "# Executing operations and evaluating nodes in the graph\n",
    "tf.compat.v1.global_variables_initializer().run() # Initialize the variables\n",
    "\n",
    "# Calculate h with x and print the results for 5 steps\n",
    "for step in range(10):\n",
    "    x_eval, h_eval = session.run([x,h]) \n",
    "    print('========== Step %d =========='%step)\n",
    "    print('Evaluated data (x)')\n",
    "    print(x_eval)\n",
    "    print('Evaluated data (h)')\n",
    "    print(h_eval)\n",
    "    print('')\n",
    "\n",
    "# We also need to explicitly stop the coordinator \n",
    "# otherwise the process will hang indefinitely\n",
    "coord.request_stop()\n",
    "coord.join(threads)\n",
    "session.close()"
   ]
  },
  {
   "cell_type": "markdown",
   "metadata": {},
   "source": [
    "## Comparison Operators\n",
    "\n",
    "Here we discuss some operators that allows us to compare two tensors element-wise"
   ]
  },
  {
   "cell_type": "code",
   "execution_count": 26,
   "metadata": {},
   "outputs": [
    {
     "name": "stdout",
     "output_type": "stream",
     "text": [
      "Is X == Y (element-wise)?\n",
      "[[False False]\n",
      " [ True False]]\n",
      "\n",
      "Is X < Y (element-wise)?\n",
      "[[ True  True]\n",
      " [False False]]\n",
      "\n",
      "Is X >= Y (element-wise)?\n",
      "[[False False]\n",
      " [ True  True]]\n",
      "\n",
      "X or Y depending on the condition (element-wise)\n",
      "[[1 3]\n",
      " [3 2]]\n"
     ]
    }
   ],
   "source": [
    "# Defining the graph and session\n",
    "graph = tf.Graph() # Creates a graph\n",
    "session = tf.compat.v1.InteractiveSession(graph=graph) # Creates a session\n",
    "\n",
    "# Let's assume the following values for x and y\n",
    "# x (2-D tensor) => [[1,2],[3,4]]\n",
    "# y (2-D tensor) => [[4,3],[3,2]]\n",
    "x = tf.constant([[1,2],[3,4]], dtype=tf.int32)\n",
    "y = tf.constant([[4,3],[3,2]], dtype=tf.int32)\n",
    "\n",
    "# Checks if two tensors are equal element-wise and returns a boolean tensor\n",
    "# x_equal_y => [[False,False],[True,False]]\n",
    "x_equal_y = tf.equal(x, y, name=None) \n",
    "\n",
    "# Checks if x is less than y element-wise and returns a boolean tensor\n",
    "# x_less_y => [[True,True],[True,False]]\n",
    "x_less_y = tf.less(x, y, name=None) \n",
    "\n",
    "# Checks if x is greater or equal than y element-wise and returns a boolean tensor\n",
    "# x_great_equal_y => [[False,False],[True,True]]\n",
    "x_great_equal_y = tf.greater_equal(x, y, name=None) \n",
    "\n",
    "# Selects elements from x and y depending on whether,\n",
    "# the condition is satisfied (select elements from x)\n",
    "# or the condition failed (select elements from y)\n",
    "condition = tf.constant([[True,False],[True,False]],dtype=tf.bool)\n",
    "# x_cond_y => [[1,3],[3,2]]\n",
    "x_cond_y = tf.where(condition, x, y, name=None) \n",
    "\n",
    "print('Is X == Y (element-wise)?')\n",
    "print(session.run(x_equal_y))\n",
    "\n",
    "print('\\nIs X < Y (element-wise)?')\n",
    "print(session.run(x_less_y))\n",
    "\n",
    "print('\\nIs X >= Y (element-wise)?')\n",
    "print(session.run(x_great_equal_y))\n",
    "\n",
    "print('\\nX or Y depending on the condition (element-wise)')\n",
    "print(session.run(x_cond_y))\n",
    "\n",
    "session.close()"
   ]
  },
  {
   "cell_type": "markdown",
   "metadata": {},
   "source": [
    "## Mathematical Operations\n",
    "Here we perform several mathematical opeartions you are often comfortable with"
   ]
  },
  {
   "cell_type": "code",
   "execution_count": 31,
   "metadata": {},
   "outputs": [
    {
     "name": "stdout",
     "output_type": "stream",
     "text": [
      "X\n",
      "[[1. 2.]\n",
      " [3. 4.]]\n",
      "Y\n",
      "[[4. 3.]\n",
      " [3. 2.]]\n",
      "X + Y\n",
      "[[5. 5.]\n",
      " [6. 6.]]\n",
      "\n",
      " XY\n",
      "[[10.  7.]\n",
      " [24. 17.]]\n",
      "\n",
      " log(x)\n",
      "[[0.        0.6931472]\n",
      " [1.0986123 1.3862944]]\n",
      "\n",
      " X sum over axis 1\n",
      "[3. 7.]\n",
      "\n",
      " X sum over axis 0\n",
      "[[4. 6.]]\n",
      "\n",
      " Segemented sum of a vector\n",
      "[ 6.  9. 40.]\n"
     ]
    }
   ],
   "source": [
    "# Defining the graph and session\n",
    "graph = tf.Graph() # Creates a graph\n",
    "session = tf.compat.v1.InteractiveSession(graph=graph) # Creates a session\n",
    "\n",
    "# Let's assume the following values for x and y\n",
    "# x (2-D tensor) => [[1,2],[3,4]]\n",
    "# y (2-D tensor) => [[4,3],[3,2]]\n",
    "x = tf.constant([[1,2],[3,4]], dtype=tf.float32)\n",
    "y = tf.constant([[4,3],[3,2]], dtype=tf.float32)\n",
    "\n",
    "# Add two tensors x and y in an element-wise fashion\n",
    "# x_add_y => [[5,5],[6,6]]\n",
    "x_add_y = tf.add(x, y) \n",
    "\n",
    "# Performs matrix multiplication (not element-wise)\n",
    "# x_mul_y => [[10,7],[24,17]]\n",
    "x_mul_y = tf.matmul(x, y) \n",
    "\n",
    "# Compute natural logarithm of x element-wise\n",
    "# equivalent to computing ln(x)\n",
    "# log_x => [[0,0.6931],[1.0986,1.3863]]\n",
    "log_x = tf.compat.v1.log(x) \n",
    "\n",
    "# Performs reduction operation across the specified axis\n",
    "# x_sum_1 => [3,7]\n",
    "x_sum_1 = tf.reduce_sum(x, axis=[1], keepdims=False)\n",
    "\n",
    "# x_sum_2 => [[4],[6]]\n",
    "x_sum_2 = tf.reduce_sum(x, axis=[0], keepdims=True) \n",
    "\n",
    "# Segments the tensor according to segment_ids (items with same id in\n",
    "# the same segment) and computes a segmented sum of the data\n",
    "\n",
    "data = tf.constant([1,2,3,4,5,6,7,8,9,10], dtype=tf.float32)\n",
    "segment_ids = tf.constant([0,0,0,1,1,2,2,2,2,2 ], dtype=tf.int32)\n",
    "# x_seg_sum => [6,9,40]\n",
    "x_seg_sum = tf.compat.v1.segment_sum(data, segment_ids) \n",
    "print('X')\n",
    "print(session.run(x))\n",
    "print('Y')\n",
    "print(session.run(y))\n",
    "print('X + Y')\n",
    "print(session.run(x_add_y))\n",
    "print('\\n XY')\n",
    "print(session.run(x_mul_y))\n",
    "print('\\n log(x)')\n",
    "print(session.run(log_x))\n",
    "print('\\n X sum over axis 1')\n",
    "print(session.run(x_sum_1))\n",
    "print('\\n X sum over axis 0')\n",
    "print(session.run(x_sum_2))\n",
    "print('\\n Segemented sum of a vector')\n",
    "print(session.run(x_seg_sum))\n",
    "\n",
    "session.close()"
   ]
  },
  {
   "cell_type": "markdown",
   "metadata": {},
   "source": [
    "## Scatter and Gather Operations\n",
    "\n",
    "Scatter operation can distributed a set of values to specific positions of a tensor, where the gather operation can obtain a slice of a tensor specified by a set of indices."
   ]
  },
  {
   "cell_type": "code",
   "execution_count": 38,
   "metadata": {},
   "outputs": [
    {
     "name": "stdout",
     "output_type": "stream",
     "text": [
      "\n",
      "Scatter Update Operation for 1-D\n",
      "[1. 2. 3. 4. 5.]\n"
     ]
    }
   ],
   "source": [
    "\n",
    "# Defining the graph and session\n",
    "graph = tf.Graph() # Creates a graph\n",
    "session = tf.compat.v1.InteractiveSession(graph=graph) # Creates a session\n",
    "\n",
    "# 1-D scatter operation\n",
    "ref = tf.Variable(tf.constant([1,9,3,10,5],dtype=tf.float32),name='scatter_update')\n",
    "indices = [1,3]\n",
    "updates = tf.constant([2,4],dtype=tf.float32)\n",
    "tf_scatter_update = tf.compat.v1.scatter_update(ref, indices, updates, use_locking=None, name=None) \n",
    "\n",
    "tf.compat.v1.global_variables_initializer().run() # Initialize the variables\n",
    "print('\\nScatter Update Operation for 1-D')\n",
    "print(session.run(tf_scatter_update))"
   ]
  },
  {
   "cell_type": "code",
   "execution_count": 39,
   "metadata": {},
   "outputs": [
    {
     "name": "stdout",
     "output_type": "stream",
     "text": [
      "\n",
      "Scatter Operation for n-D\n",
      "[[0 0 0]\n",
      " [1 1 1]\n",
      " [0 0 0]\n",
      " [2 2 2]]\n"
     ]
    }
   ],
   "source": [
    "# n-D scatter operation\n",
    "indices = [[1],[3]]\n",
    "updates = tf.constant([[1,1,1],[2,2,2]])\n",
    "shape = [4,3]\n",
    "tf_scatter_nd_1 = tf.scatter_nd(indices, updates, shape, name=None)\n",
    "print('\\nScatter Operation for n-D')\n",
    "print(session.run(tf_scatter_nd_1))"
   ]
  },
  {
   "cell_type": "code",
   "execution_count": 40,
   "metadata": {},
   "outputs": [
    {
     "name": "stdout",
     "output_type": "stream",
     "text": [
      "\n",
      "Scatter Operation for n-D\n",
      "[[0 0 0]\n",
      " [1 0 0]\n",
      " [0 0 0]\n",
      " [0 2 0]]\n"
     ]
    }
   ],
   "source": [
    "# n-D scatter operation\n",
    "indices = [[1,0],[3,1]] # 2 x 2\n",
    "updates = tf.constant([1,2]) # 2 x 1\n",
    "shape = [4,3] # 2\n",
    "tf_scatter_nd_2 = tf.scatter_nd(indices, updates, shape, name=None)\n",
    "print('\\nScatter Operation for n-D')\n",
    "print(session.run(tf_scatter_nd_2))"
   ]
  },
  {
   "cell_type": "code",
   "execution_count": 41,
   "metadata": {},
   "outputs": [
    {
     "name": "stdout",
     "output_type": "stream",
     "text": [
      "\n",
      "Gather Operation for 1-D\n",
      "[2. 5.]\n",
      "\n",
      "Gather Operation for n-D\n",
      "[[0. 0. 0.]\n",
      " [2. 2. 2.]]\n",
      "\n",
      "Gather Operation for n-D\n",
      "[0. 2.]\n"
     ]
    }
   ],
   "source": [
    "\n",
    "# 1-D gather operation\n",
    "params = tf.constant([1,2,3,4,5],dtype=tf.float32)\n",
    "indices = [1,4]\n",
    "tf_gather = tf.gather(params, indices, validate_indices=True, name=None) #=> [2,5]\n",
    "print('\\nGather Operation for 1-D')\n",
    "print(session.run(tf_gather))\n",
    "\n",
    "# n-D gather operation\n",
    "params = tf.constant([[0,0,0],[1,1,1],[2,2,2],[3,3,3]],dtype=tf.float32)\n",
    "indices = [[0],[2]]\n",
    "tf_gather_nd = tf.gather_nd(params, indices, name=None) #=> [[0,0,0],[2,2,2]]\n",
    "print('\\nGather Operation for n-D')\n",
    "print(session.run(tf_gather_nd))\n",
    "\n",
    "params = tf.constant([[0,0,0],[1,1,1],[2,2,2],[3,3,3]],dtype=tf.float32)\n",
    "indices = [[0,1],[2,2]]\n",
    "tf_gather_nd_2 = tf.gather_nd(params, indices, name=None) #=> [[0,0,0],[2,2,2]]\n",
    "print('\\nGather Operation for n-D')\n",
    "print(session.run(tf_gather_nd_2))\n",
    "\n",
    "session.close()"
   ]
  },
  {
   "cell_type": "markdown",
   "metadata": {},
   "source": [
    "## 2-Dimensional Operations (2D Convolution and 2D Max pooling)\n",
    "2D Convolution and Max pooling are two operation you perform on a tensor over the width and height axes. These operations are often used in convolution neural networks."
   ]
  },
  {
   "cell_type": "code",
   "execution_count": 8,
   "metadata": {},
   "outputs": [
    {
     "name": "stdout",
     "output_type": "stream",
     "text": [
      "\n",
      "2-D Convolution operation\n",
      "[[[[ 7.5]\n",
      "   [ 7.5]\n",
      "   [ 7.5]]\n",
      "\n",
      "  [[13.5]\n",
      "   [13.5]\n",
      "   [13.5]]\n",
      "\n",
      "  [[19.5]\n",
      "   [19.5]\n",
      "   [19.5]]]]\n",
      "\n",
      "Max pooling operation\n",
      "[[[[4.]\n",
      "   [4.]]\n",
      "\n",
      "  [[8.]\n",
      "   [8.]]]]\n"
     ]
    }
   ],
   "source": [
    "\n",
    "# Defining the graph and session\n",
    "graph = tf.Graph() # Creates a graph\n",
    "session = tf.InteractiveSession(graph=graph) # Creates a session\n",
    "\n",
    "x = tf.constant(\n",
    "    [[\n",
    "        [[1],[2],[3],[4]],\n",
    "        [[4],[3],[2],[1]],\n",
    "        [[5],[6],[7],[8]],\n",
    "        [[8],[7],[6],[5]]\n",
    "    ]],\n",
    "    dtype=tf.float32)\n",
    "\n",
    "x_filter = tf.constant(\n",
    "    [\n",
    "        [\n",
    "            [[0.5]],[[1]]\n",
    "        ],\n",
    "        [\n",
    "            [[0.5]],[[1]]\n",
    "        ]\n",
    "    ],\n",
    "    dtype=tf.float32)\n",
    "\n",
    "x_stride = [1,1,1,1]\n",
    "x_padding = 'VALID'\n",
    "\n",
    "x_conv = tf.nn.conv2d(\n",
    "    input=x, filter=x_filter,\n",
    "    strides=x_stride, padding=x_padding\n",
    ")\n",
    "\n",
    "print('\\n2-D Convolution operation')\n",
    "print(session.run(x_conv))\n",
    "\n",
    "x = tf.constant(\n",
    "    [[\n",
    "        [[1],[2],[3],[4]],\n",
    "        [[4],[3],[2],[1]],\n",
    "        [[5],[6],[7],[8]],\n",
    "        [[8],[7],[6],[5]]\n",
    "    ]],\n",
    "    dtype=tf.float32)\n",
    "\n",
    "x_ksize = [1,2,2,1]\n",
    "x_stride = [1,2,2,1]\n",
    "x_padding = 'VALID'\n",
    "\n",
    "x_pool = tf.nn.max_pool(\n",
    "    value=x, ksize=x_ksize,\n",
    "    strides=x_stride, padding=x_padding\n",
    ")\n",
    "\n",
    "print('\\nMax pooling operation')\n",
    "print(session.run(x_pool))\n",
    "session.close()"
   ]
  },
  {
   "cell_type": "markdown",
   "metadata": {},
   "source": [
    "## Loss Functions\n",
    "Here we define several well-known loss functions that are commonly used in optimizing neural networks.\n",
    "1. Mean Squared Error (MSE)\n",
    " * $MSE = (1/N)\\sum_{i=1}^{N} {(x_i-\\hat{x}_i)}^2$\n",
    " \n",
    "2. Cross Entropy Loss (CE)\n",
    " * $CE = -(1/N)\\sum_{i=1}^{N}y_ilog(\\hat{y}_i) + (1-y_i)log(1-\\hat{y}_i)$"
   ]
  },
  {
   "cell_type": "code",
   "execution_count": 43,
   "metadata": {},
   "outputs": [
    {
     "name": "stdout",
     "output_type": "stream",
     "text": [
      "MSE Loss:  15.0\n",
      "CE Loss:  0.08775769\n"
     ]
    }
   ],
   "source": [
    "# Defining the graph and session\n",
    "graph = tf.Graph() # Creates a graph\n",
    "session = tf.compat.v1.InteractiveSession(graph=graph) # Creates a session\n",
    "\n",
    "# Returns half of L2 norm of t given by sum(t**2)/2\n",
    "x = tf.constant([[2,4],[6,8]],dtype=tf.float32)\n",
    "x_hat = tf.constant([[1,2],[3,4]],dtype=tf.float32)\n",
    "# MSE = (1**2 + 2**2 + 3**2 + 4**2)/2 = 15\n",
    "MSE = tf.nn.l2_loss(x-x_hat)\n",
    "\n",
    "# A common loss function used in neural networks to optimize the network\n",
    "# Calculating the cross_entropy with logits (unnormalized outputs of the last layer)\n",
    "# instead of outputs leads to better numerical stabilities\n",
    "\n",
    "y = tf.constant([[1,0],[0,1]],dtype=tf.float32)\n",
    "y_hat = tf.constant([[3,1],[2,5]],dtype=tf.float32)\n",
    "# This function alone doesnt average the cross entropy losses of all data points,\n",
    "# You need to do that manually using reduce_mean function\n",
    "CE = tf.reduce_mean(tf.nn.softmax_cross_entropy_with_logits(logits=y_hat,labels=y))\n",
    "\n",
    "print('MSE Loss: ',session.run(MSE))\n",
    "print('CE Loss: ',session.run(CE))\n",
    "session.close()"
   ]
  },
  {
   "cell_type": "markdown",
   "metadata": {},
   "source": [
    "## Stochastic Optimization\n",
    "Here we discuss how to implement optimization with TensorFlow. The objective of this example is to find the mininum point of a given function. For this example, we will use a simple quadratic function where $y = x^2$. We will start at an arbitrary point (say $x=2$) and keep minimizing $y$ until we reach the minimum $y$."
   ]
  },
  {
   "cell_type": "code",
   "execution_count": 68,
   "metadata": {},
   "outputs": [
    {
     "name": "stdout",
     "output_type": "stream",
     "text": [
      "Step:  0 , x:  2.0 , y:  4.0\n",
      "Step:  1 , x:  1.6 , y:  2.5600002\n",
      "Step:  2 , x:  1.28 , y:  1.6384\n",
      "Step:  3 , x:  1.0239999 , y:  1.0485759\n",
      "Step:  4 , x:  0.8191999 , y:  0.6710885\n"
     ]
    },
    {
     "data": {
      "image/png": "[encoded data removed]",
      "text/plain": [
       "<Figure size 1800x360 with 1 Axes>"
      ]
     },
     "metadata": {
      "needs_background": "light"
     },
     "output_type": "display_data"
    }
   ],
   "source": [
    "graph = tf.compat.v1.get_default_graph() # You can also get the TensorFlow's default graph instead of creating a new graph object\n",
    "session = tf.compat.v1.InteractiveSession(graph=graph) # Creates a session if you don't specify a graph the new graph will be passed\n",
    "\n",
    "# Optimizers play the role of tuning neural network parameters so that their task error is minimal\n",
    "# For example task error can be the cross_entropy error for a classification task\n",
    "tf_x = tf.Variable(tf.constant(2.0,dtype=tf.float32),name='x') \n",
    "tf_y = tf_x**2\n",
    "minimize_op = tf.compat.v1.train.GradientDescentOptimizer(learning_rate=0.1).minimize(tf_y)\n",
    "\n",
    "x_series, y_series = [],[]\n",
    "tf.compat.v1.global_variables_initializer().run()\n",
    "for step in range(5):\n",
    "    _, x,y = session.run([minimize_op,tf_x,tf_y])\n",
    "    print('Step: ',step, ', x: ',x, ', y: ',y)\n",
    "    x_series.append(x)\n",
    "    y_series.append(y)\n",
    "\n",
    "fig, ax = plt.subplots(nrows=1, ncols=1)\n",
    "fig.set_size_inches(w=25,h=5)\n",
    "ax.plot(np.arange(-4,4.1,0.1),np.arange(-4,4.1,0.1)**2)\n",
    "ax.scatter(x_series,y_series,c='red',linewidths=4)\n",
    "\n",
    "x_offset, y_offset = 0.02, 0.75\n",
    "ax.annotate('Starting point', xy=(2.01, 4.1), xytext=(2.5, 8), arrowprops=dict(facecolor='black', shrink=0.01),fontsize=20)\n",
    "ax.annotate('Optimization path', xy=(2.01, 4.1), xytext=(0.6, 5), arrowprops=None,fontsize=20)\n",
    "\n",
    "for index,(x,y) in enumerate(zip(x_series,y_series)):\n",
    "    if index == len(x_series)-1:\n",
    "        break\n",
    "    ax.annotate('', xy=(x_series[index+1], y_series[index+1]+y_offset), xytext=( x - x_offset, y + y_offset),\n",
    "                arrowprops=dict(facecolor='red', edgecolor='red', shrink=0.01),fontsize=20\n",
    "                )\n",
    "\n",
    "ax.set_xlabel('x',fontsize=20)\n",
    "ax.set_ylabel('y',fontsize=20)\n",
    "ax.set_title('Optimizing y=x^2',fontsize=22)\n",
    "fig.savefig('optimization.jpg')\n",
    "session.close()"
   ]
  },
  {
   "cell_type": "markdown",
   "metadata": {},
   "source": [
    "## Using tf.control_dependencies(...) Operation"
   ]
  },
  {
   "cell_type": "code",
   "execution_count": 69,
   "metadata": {},
   "outputs": [
    {
     "name": "stdout",
     "output_type": "stream",
     "text": [
      "z= 4.0\n",
      "x= 2.0\n"
     ]
    }
   ],
   "source": [
    "# if you don't pass a graph, the default_graph will be used by TensorFlow as the graph\n",
    "session = tf.compat.v1.InteractiveSession()\n",
    "\n",
    "x = tf.Variable(tf.constant(2.0), name='x')\n",
    "x_assign_op = tf.compat.v1.assign(x, x+5)\n",
    "z = x*2\n",
    "\n",
    "tf.compat.v1.global_variables_initializer().run()\n",
    "\n",
    "print('z=',session.run(z))\n",
    "print('x=',session.run(x))\n",
    "\n",
    "session.close()"
   ]
  },
  {
   "cell_type": "code",
   "execution_count": null,
   "metadata": {},
   "outputs": [],
   "source": []
  },
  {
   "cell_type": "code",
   "execution_count": 70,
   "metadata": {},
   "outputs": [
    {
     "name": "stdout",
     "output_type": "stream",
     "text": [
      "z= 14.0\n",
      "x= 7.0\n"
     ]
    }
   ],
   "source": [
    "session = tf.compat.v1.InteractiveSession()\n",
    "x = tf.Variable(tf.constant(2.0), name='x')\n",
    "with tf.control_dependencies([tf.compat.v1.assign(x, x+5)]):\n",
    "  z = x*2\n",
    "\n",
    "tf.compat.v1.global_variables_initializer().run()\n",
    "\n",
    "print('z=',session.run(z))\n",
    "print('x=',session.run(x))\n",
    "\n",
    "session.close()"
   ]
  },
  {
   "cell_type": "markdown",
   "metadata": {},
   "source": [
    "## Variable Scoping\n",
    "\n",
    "Here we will see how we can use variable scoping to reuse variables during the execution of the code. First we will see that TensorFlow creates variables everytime we execute code if scoping is not used. Then we look at how to solve this issue with scoping."
   ]
  },
  {
   "cell_type": "code",
   "execution_count": 76,
   "metadata": {},
   "outputs": [
    {
     "name": "stdout",
     "output_type": "stream",
     "text": [
      "14.0\n",
      "['x:0', 'y:0', 'x_1:0', 'y_1:0', 'x_2:0', 'y_2:0', 'x_3:0', 'y_3:0', 'x_4:0', 'y_4:0', 'x_5:0', 'y_5:0', 'x_6:0', 'y_6:0', 'x_7:0', 'y_7:0', 'x_8:0', 'y_8:0', 'x_9:0', 'y_9:0', 'x_10:0', 'y_10:0']\n"
     ]
    }
   ],
   "source": [
    "graph = tf.Graph() # Creates a graph\n",
    "session = tf.compat.v1.InteractiveSession(graph=graph) \n",
    "\n",
    "def very_simple_computation(w):\n",
    "  x = tf.Variable(tf.constant(5.0, shape=None, dtype=tf.float32), name='x')\n",
    "  y = tf.Variable(tf.constant(2.0, shape=None, dtype=tf.float32), name='y')\n",
    "  z = x*w + y**2\n",
    "  return z\n",
    "\n",
    "z1 = very_simple_computation(2)\n",
    "\n",
    "for _ in range(10):\n",
    "    z1 = very_simple_computation(2)\n",
    "    \n",
    "tf.compat.v1.global_variables_initializer().run()\n",
    "print(session.run(z1))\n",
    "\n",
    "print([v.name for v in tf.compat.v1.global_variables()])\n",
    "session.close()"
   ]
  },
  {
   "cell_type": "code",
   "execution_count": 81,
   "metadata": {},
   "outputs": [
    {
     "name": "stdout",
     "output_type": "stream",
     "text": [
      "[9.0, 90.0, 9.0, 90.0, 9.0, 90.0]\n",
      "['scopeA/x:0', 'scopeA/y:0', 'scopeB/x:0', 'scopeB/y:0']\n"
     ]
    }
   ],
   "source": [
    "graph = tf.Graph()\n",
    "# Defining the graph and session\n",
    "session = tf.compat.v1.InteractiveSession(graph=graph) # Creates a session\n",
    "\n",
    "def not_so_simple_computation(w):\n",
    "  x = tf.compat.v1.get_variable('x', initializer=tf.constant (5.0, shape=None, dtype=tf.float32))\n",
    "  y = tf.compat.v1.get_variable('y', initializer=tf.constant(2.0, shape=None, dtype=tf.float32)) \n",
    "  z = x*w + y**2\n",
    "  return z\n",
    "\n",
    "def another_not_so_simple_computation(w):\n",
    "  x = tf.compat.v1.get_variable('x', initializer=tf.constant(5.0, shape=None, dtype=tf.float32))\n",
    "  y = tf.compat.v1.get_variable('y', initializer=tf.constant(2.0, shape=None, dtype=tf.float32)) \n",
    "  z = w*x*y\n",
    "  return z\n",
    " \n",
    "# Since this is the first call, the variables will be created with following names\n",
    "# x => scopeA/x, y => scopeA/y\n",
    "with tf.compat.v1.variable_scope('scopeA'):\n",
    "  z1 = not_so_simple_computation(tf.constant(1.0,dtype=tf.float32))\n",
    "# scopeA/x and scopeA/y alread created we reuse them\n",
    "with tf.compat.v1.variable_scope('scopeA',reuse=True):\n",
    "  z2 = another_not_so_simple_computation(z1)\n",
    "\n",
    "# Since this is the first call, the variables will be created with following names\n",
    "# x => scopeB/x, y => scopeB/y\n",
    "with tf.compat.v1.variable_scope('scopeB'):\n",
    "  a1 = not_so_simple_computation(tf.constant(1.0,dtype=tf.float32))\n",
    "# scopeB/x and scopeB/y alread created we reuse them\n",
    "with tf.compat.v1.variable_scope('scopeB',reuse=True):\n",
    "  a2 = another_not_so_simple_computation(a1)\n",
    "\n",
    "# Say we want to reuse the \"scopeA\" scope again, since variables are already created\n",
    "# we should set \"reuse\" argument to True when invoking the scope\n",
    "with tf.compat.v1.variable_scope('scopeA',reuse=True):\n",
    "  zz1 = not_so_simple_computation(tf.constant(1.0,dtype=tf.float32))\n",
    "  zz2 = another_not_so_simple_computation(z1)\n",
    "\n",
    "tf.compat.v1.global_variables_initializer().run()\n",
    "print(session.run([z1,z2,a1,a2,zz1,zz2]))\n",
    "print([v.name for v in tf.compat.v1.global_variables()])\n",
    "\n",
    "session.close()"
   ]
  },
  {
   "cell_type": "markdown",
   "metadata": {},
   "source": [
    "# MNIST Classification"
   ]
  },
  {
   "cell_type": "markdown",
   "metadata": {},
   "source": [
    "## Download and Prepare Data\n",
    "\n",
    "The code below downloads the MNIST data set from source, reshapes the images to [number_of_training_samples, single_image_size] matrix and standardize (make zero-mean unit-variance) images. Then we do the same for testing images as well."
   ]
  },
  {
   "cell_type": "code",
   "execution_count": 82,
   "metadata": {},
   "outputs": [
    {
     "name": "stdout",
     "output_type": "stream",
     "text": [
      "Attempting to download: train-images-idx3-ubyte.gz\n",
      "\n",
      "Download Complete!\n",
      "Found and verified train-images-idx3-ubyte.gz\n",
      "Attempting to download: train-labels-idx1-ubyte.gz\n",
      "\n",
      "Download Complete!\n",
      "Found and verified train-labels-idx1-ubyte.gz\n",
      "Attempting to download: t10k-images-idx3-ubyte.gz\n",
      "\n",
      "Download Complete!\n",
      "Found and verified t10k-images-idx3-ubyte.gz\n",
      "Attempting to download: t10k-labels-idx1-ubyte.gz\n",
      "\n",
      "Download Complete!\n",
      "Found and verified t10k-labels-idx1-ubyte.gz\n",
      "\n",
      "Reading files train-images-idx3-ubyte.gz and train-labels-idx1-ubyte.gz\n",
      "60000 28 28\n",
      "(Images) Returned a tensor of shape  (60000, 784)\n",
      "(Labels) Returned a tensor of shape: 60000\n",
      "Sample labels:  [5 0 4 1 9 2 1 3 1 4]\n",
      "\n",
      "Reading files t10k-images-idx3-ubyte.gz and t10k-labels-idx1-ubyte.gz\n",
      "10000 28 28\n",
      "(Images) Returned a tensor of shape  (10000, 784)\n",
      "(Labels) Returned a tensor of shape: 10000\n",
      "Sample labels:  [7 2 1 0 4 1 4 9 5 9]\n"
     ]
    }
   ],
   "source": [
    "import struct\n",
    "import gzip\n",
    "import os\n",
    "from six.moves.urllib.request import urlretrieve\n",
    "\n",
    "def maybe_download(url, filename, expected_bytes, force=False):\n",
    "  \"\"\"Download a file if not present, and make sure it's the right size.\"\"\"\n",
    "  if force or not os.path.exists(filename):\n",
    "    print('Attempting to download:', filename) \n",
    "    filename, _ = urlretrieve(url + filename, filename)\n",
    "    print('\\nDownload Complete!')\n",
    "  statinfo = os.stat(filename)\n",
    "  if statinfo.st_size == expected_bytes:\n",
    "    print('Found and verified', filename)\n",
    "  else:\n",
    "    raise Exception('Failed to verify ' + filename + '. Can you get to it with a browser?')\n",
    "  return filename\n",
    "\n",
    "\n",
    "def read_mnist(fname_img, fname_lbl):\n",
    "    print('\\nReading files %s and %s'%(fname_img, fname_lbl))\n",
    "    \n",
    "    with gzip.open(fname_img) as fimg:        \n",
    "        magic, num, rows, cols = struct.unpack(\">IIII\", fimg.read(16))\n",
    "        print(num,rows,cols)\n",
    "        img = (np.frombuffer(fimg.read(num*rows*cols), dtype=np.uint8).reshape(num, rows * cols)).astype(np.float32)\n",
    "        print('(Images) Returned a tensor of shape ',img.shape)\n",
    "        \n",
    "        img = (img - np.mean(img))/np.std(img)\n",
    "        \n",
    "    with gzip.open(fname_lbl) as flbl:\n",
    "        # flbl.read(8) reads upto 8 bytes\n",
    "        magic, num = struct.unpack(\">II\", flbl.read(8))        \n",
    "        lbl = np.frombuffer(flbl.read(num), dtype=np.int8)\n",
    "        print('(Labels) Returned a tensor of shape: %s'%lbl.shape)\n",
    "        print('Sample labels: ',lbl[:10])\n",
    "        \n",
    "    return img, lbl\n",
    "    \n",
    "    \n",
    "# Download data if needed\n",
    "url = 'http://yann.lecun.com/exdb/mnist/'\n",
    "# training data\n",
    "maybe_download(url,'train-images-idx3-ubyte.gz',9912422)\n",
    "maybe_download(url,'train-labels-idx1-ubyte.gz',28881)\n",
    "# testing data\n",
    "maybe_download(url,'t10k-images-idx3-ubyte.gz',1648877)\n",
    "maybe_download(url,'t10k-labels-idx1-ubyte.gz',4542)\n",
    "\n",
    "# Read the training and testing data \n",
    "train_inputs, train_labels = read_mnist('train-images-idx3-ubyte.gz', 'train-labels-idx1-ubyte.gz')\n",
    "test_inputs, test_labels = read_mnist('t10k-images-idx3-ubyte.gz', 't10k-labels-idx1-ubyte.gz')\n",
    "\n",
    "\n"
   ]
  },
  {
   "cell_type": "markdown",
   "metadata": {},
   "source": [
    "## Defining Hyperparameters and Some Constants"
   ]
  },
  {
   "cell_type": "code",
   "execution_count": 85,
   "metadata": {},
   "outputs": [],
   "source": [
    "WEIGHTS_STRING = 'weights'\n",
    "BIAS_STRING = 'bias'\n",
    "\n",
    "batch_size = 100\n",
    "\n",
    "img_width, img_height = 28,28\n",
    "input_size = img_height * img_width\n",
    "num_labels = 10\n",
    "\n",
    "# resets the default graph Otherwise raises an error about already initialized variables\n",
    "graph = tf.Graph()"
   ]
  },
  {
   "cell_type": "markdown",
   "metadata": {},
   "source": [
    "## Defining Input and Label Placeholders"
   ]
  },
  {
   "cell_type": "code",
   "execution_count": 87,
   "metadata": {},
   "outputs": [],
   "source": [
    "# Defining inputs and outputs\n",
    "tf_inputs = tf.compat.v1.placeholder(shape=[batch_size, input_size], dtype=tf.float32, name = 'inputs')\n",
    "tf_labels = tf.compat.v1.placeholder(shape=[batch_size, num_labels], dtype=tf.float32, name = 'labels')"
   ]
  },
  {
   "cell_type": "markdown",
   "metadata": {},
   "source": [
    "## Defining the Weights and Bias Variables (with Scoping)"
   ]
  },
  {
   "cell_type": "code",
   "execution_count": 18,
   "metadata": {
    "collapsed": true
   },
   "outputs": [],
   "source": [
    "# Defining the Tensorflow variables\n",
    "def define_net_parameters():\n",
    "    with tf.variable_scope('layer1'):\n",
    "        tf.get_variable(WEIGHTS_STRING,shape=[input_size,500], initializer=tf.random_normal_initializer(0,0.02))\n",
    "        tf.get_variable(BIAS_STRING, shape=[500], initializer=tf.random_uniform_initializer(0,0.01))\n",
    "        \n",
    "    with tf.variable_scope('layer2'):\n",
    "        tf.get_variable(WEIGHTS_STRING,shape=[500,250], initializer=tf.random_normal_initializer(0,0.02))\n",
    "        tf.get_variable(BIAS_STRING, shape=[250], initializer=tf.random_uniform_initializer(0,0.01))\n",
    "    \n",
    "    with tf.variable_scope('output'):\n",
    "        tf.get_variable(WEIGHTS_STRING,shape=[250,10], initializer=tf.random_normal_initializer(0,0.02))\n",
    "        tf.get_variable(BIAS_STRING, shape=[10], initializer=tf.random_uniform_initializer(0,0.01))"
   ]
  },
  {
   "cell_type": "markdown",
   "metadata": {},
   "source": [
    "## Defining the Inference Operation\n",
    "\n",
    "Here we calculate the output logits (unnormalized scores) for a given input x"
   ]
  },
  {
   "cell_type": "code",
   "execution_count": 19,
   "metadata": {
    "collapsed": true
   },
   "outputs": [],
   "source": [
    "# Defining calcutations in the neural network starting from inputs to logits\n",
    "# logits are the values before applying softmax to the final output\n",
    "        \n",
    "def inference(x):\n",
    "    # calculations for layer 1\n",
    "    with tf.variable_scope('layer1',reuse=True):\n",
    "        w,b = tf.get_variable(WEIGHTS_STRING), tf.get_variable(BIAS_STRING)\n",
    "        tf_h1 = tf.nn.relu(tf.matmul(x,w) + b, name = 'hidden1')\n",
    "\n",
    "    # calculations for layer 2\n",
    "    with tf.variable_scope('layer2',reuse=True):\n",
    "        w,b = tf.get_variable(WEIGHTS_STRING), tf.get_variable(BIAS_STRING)\n",
    "        tf_h2 = tf.nn.relu(tf.matmul(tf_h1,w) + b, name = 'hidden1')\n",
    "\n",
    "    # calculations for output layer\n",
    "    with tf.variable_scope('output',reuse=True):\n",
    "        w,b = tf.get_variable(WEIGHTS_STRING), tf.get_variable(BIAS_STRING)\n",
    "        tf_logits = tf.nn.bias_add(tf.matmul(tf_h2,w), b, name = 'logits')\n",
    "\n",
    "    return tf_logits"
   ]
  },
  {
   "cell_type": "markdown",
   "metadata": {},
   "source": [
    "## Defining Loss Function and the Optimizer\n",
    "We use the cross entropy loss function and a momentum-based optimizer for learning"
   ]
  },
  {
   "cell_type": "code",
   "execution_count": 20,
   "metadata": {},
   "outputs": [],
   "source": [
    "define_net_parameters()\n",
    "\n",
    "# defining the loss\n",
    "tf_loss = tf.reduce_mean(tf.nn.softmax_cross_entropy_with_logits_v2(logits=inference(tf_inputs), labels=tf_labels))\n",
    "\n",
    "# defining the optimize function\n",
    "tf_loss_minimize = tf.train.MomentumOptimizer(momentum=0.9,learning_rate=0.01).minimize(tf_loss)"
   ]
  },
  {
   "cell_type": "markdown",
   "metadata": {},
   "source": [
    "## Defining Predictions"
   ]
  },
  {
   "cell_type": "code",
   "execution_count": 21,
   "metadata": {
    "collapsed": true
   },
   "outputs": [],
   "source": [
    "# defining predictions\n",
    "tf_predictions = tf.nn.softmax(inference(tf_inputs))"
   ]
  },
  {
   "cell_type": "markdown",
   "metadata": {},
   "source": [
    "## Executing the Graph to get the Classification Results"
   ]
  },
  {
   "cell_type": "code",
   "execution_count": 22,
   "metadata": {},
   "outputs": [
    {
     "name": "stdout",
     "output_type": "stream",
     "text": [
      "Sample labels (one-hot)\n",
      "[[0. 0. 0. 0. 0. 1. 0. 0. 0. 0.]\n",
      " [1. 0. 0. 0. 0. 0. 0. 0. 0. 0.]\n",
      " [0. 0. 0. 0. 1. 0. 0. 0. 0. 0.]\n",
      " [0. 1. 0. 0. 0. 0. 0. 0. 0. 0.]\n",
      " [0. 0. 0. 0. 0. 0. 0. 0. 0. 1.]\n",
      " [0. 0. 1. 0. 0. 0. 0. 0. 0. 0.]\n",
      " [0. 1. 0. 0. 0. 0. 0. 0. 0. 0.]\n",
      " [0. 0. 0. 1. 0. 0. 0. 0. 0. 0.]\n",
      " [0. 1. 0. 0. 0. 0. 0. 0. 0. 0.]\n",
      " [0. 0. 0. 0. 1. 0. 0. 0. 0. 0.]]\n",
      "\n",
      "Average train loss for the 1 epoch: 0.448\n",
      "\n",
      "\tAverage test accuracy for the 1 epoch: 94.34\n",
      "\n",
      "Average train loss for the 2 epoch: 0.139\n",
      "\n",
      "\tAverage test accuracy for the 2 epoch: 96.06\n",
      "\n",
      "Average train loss for the 3 epoch: 0.090\n",
      "\n",
      "\tAverage test accuracy for the 3 epoch: 97.01\n",
      "\n",
      "Average train loss for the 4 epoch: 0.064\n",
      "\n",
      "\tAverage test accuracy for the 4 epoch: 97.29\n",
      "\n",
      "Average train loss for the 5 epoch: 0.047\n",
      "\n",
      "\tAverage test accuracy for the 5 epoch: 97.52\n",
      "\n",
      "Average train loss for the 6 epoch: 0.034\n",
      "\n",
      "\tAverage test accuracy for the 6 epoch: 97.70\n",
      "\n",
      "Average train loss for the 7 epoch: 0.026\n",
      "\n",
      "\tAverage test accuracy for the 7 epoch: 97.82\n",
      "\n",
      "Average train loss for the 8 epoch: 0.019\n",
      "\n",
      "\tAverage test accuracy for the 8 epoch: 97.99\n",
      "\n",
      "Average train loss for the 9 epoch: 0.014\n",
      "\n",
      "\tAverage test accuracy for the 9 epoch: 98.02\n",
      "\n",
      "Average train loss for the 10 epoch: 0.011\n",
      "\n",
      "\tAverage test accuracy for the 10 epoch: 98.01\n",
      "\n",
      "Average train loss for the 11 epoch: 0.008\n",
      "\n",
      "\tAverage test accuracy for the 11 epoch: 98.10\n",
      "\n",
      "Average train loss for the 12 epoch: 0.006\n",
      "\n",
      "\tAverage test accuracy for the 12 epoch: 98.02\n",
      "\n",
      "Average train loss for the 13 epoch: 0.004\n",
      "\n",
      "\tAverage test accuracy for the 13 epoch: 98.12\n",
      "\n",
      "Average train loss for the 14 epoch: 0.003\n",
      "\n",
      "\tAverage test accuracy for the 14 epoch: 98.16\n",
      "\n",
      "Average train loss for the 15 epoch: 0.002\n",
      "\n",
      "\tAverage test accuracy for the 15 epoch: 98.18\n",
      "\n",
      "Average train loss for the 16 epoch: 0.002\n",
      "\n",
      "\tAverage test accuracy for the 16 epoch: 98.17\n",
      "\n",
      "Average train loss for the 17 epoch: 0.002\n",
      "\n",
      "\tAverage test accuracy for the 17 epoch: 98.18\n",
      "\n",
      "Average train loss for the 18 epoch: 0.001\n",
      "\n",
      "\tAverage test accuracy for the 18 epoch: 98.19\n",
      "\n",
      "Average train loss for the 19 epoch: 0.001\n",
      "\n",
      "\tAverage test accuracy for the 19 epoch: 98.18\n",
      "\n",
      "Average train loss for the 20 epoch: 0.001\n",
      "\n",
      "\tAverage test accuracy for the 20 epoch: 98.21\n",
      "\n",
      "Average train loss for the 21 epoch: 0.001\n",
      "\n",
      "\tAverage test accuracy for the 21 epoch: 98.23\n",
      "\n",
      "Average train loss for the 22 epoch: 0.001\n",
      "\n",
      "\tAverage test accuracy for the 22 epoch: 98.21\n",
      "\n",
      "Average train loss for the 23 epoch: 0.001\n",
      "\n",
      "\tAverage test accuracy for the 23 epoch: 98.21\n",
      "\n",
      "Average train loss for the 24 epoch: 0.001\n",
      "\n",
      "\tAverage test accuracy for the 24 epoch: 98.22\n",
      "\n",
      "Average train loss for the 25 epoch: 0.001\n",
      "\n",
      "\tAverage test accuracy for the 25 epoch: 98.19\n",
      "\n",
      "Average train loss for the 26 epoch: 0.001\n",
      "\n",
      "\tAverage test accuracy for the 26 epoch: 98.21\n",
      "\n",
      "Average train loss for the 27 epoch: 0.001\n",
      "\n",
      "\tAverage test accuracy for the 27 epoch: 98.21\n",
      "\n",
      "Average train loss for the 28 epoch: 0.001\n",
      "\n",
      "\tAverage test accuracy for the 28 epoch: 98.21\n",
      "\n",
      "Average train loss for the 29 epoch: 0.000\n",
      "\n",
      "\tAverage test accuracy for the 29 epoch: 98.23\n",
      "\n",
      "Average train loss for the 30 epoch: 0.000\n",
      "\n",
      "\tAverage test accuracy for the 30 epoch: 98.23\n",
      "\n",
      "Average train loss for the 31 epoch: 0.000\n",
      "\n",
      "\tAverage test accuracy for the 31 epoch: 98.25\n",
      "\n",
      "Average train loss for the 32 epoch: 0.000\n",
      "\n",
      "\tAverage test accuracy for the 32 epoch: 98.25\n",
      "\n",
      "Average train loss for the 33 epoch: 0.000\n",
      "\n",
      "\tAverage test accuracy for the 33 epoch: 98.26\n",
      "\n",
      "Average train loss for the 34 epoch: 0.000\n",
      "\n",
      "\tAverage test accuracy for the 34 epoch: 98.27\n",
      "\n",
      "Average train loss for the 35 epoch: 0.000\n",
      "\n",
      "\tAverage test accuracy for the 35 epoch: 98.28\n",
      "\n",
      "Average train loss for the 36 epoch: 0.000\n",
      "\n",
      "\tAverage test accuracy for the 36 epoch: 98.28\n",
      "\n",
      "Average train loss for the 37 epoch: 0.000\n",
      "\n",
      "\tAverage test accuracy for the 37 epoch: 98.27\n",
      "\n",
      "Average train loss for the 38 epoch: 0.000\n",
      "\n",
      "\tAverage test accuracy for the 38 epoch: 98.28\n",
      "\n",
      "Average train loss for the 39 epoch: 0.000\n",
      "\n",
      "\tAverage test accuracy for the 39 epoch: 98.28\n",
      "\n",
      "Average train loss for the 40 epoch: 0.000\n",
      "\n",
      "\tAverage test accuracy for the 40 epoch: 98.28\n",
      "\n",
      "Average train loss for the 41 epoch: 0.000\n",
      "\n",
      "\tAverage test accuracy for the 41 epoch: 98.28\n",
      "\n",
      "Average train loss for the 42 epoch: 0.000\n",
      "\n",
      "\tAverage test accuracy for the 42 epoch: 98.28\n",
      "\n",
      "Average train loss for the 43 epoch: 0.000\n",
      "\n",
      "\tAverage test accuracy for the 43 epoch: 98.28\n",
      "\n",
      "Average train loss for the 44 epoch: 0.000\n",
      "\n",
      "\tAverage test accuracy for the 44 epoch: 98.28\n",
      "\n",
      "Average train loss for the 45 epoch: 0.000\n",
      "\n",
      "\tAverage test accuracy for the 45 epoch: 98.28\n",
      "\n",
      "Average train loss for the 46 epoch: 0.000\n",
      "\n",
      "\tAverage test accuracy for the 46 epoch: 98.28\n",
      "\n",
      "Average train loss for the 47 epoch: 0.000\n",
      "\n",
      "\tAverage test accuracy for the 47 epoch: 98.27\n",
      "\n",
      "Average train loss for the 48 epoch: 0.000\n",
      "\n",
      "\tAverage test accuracy for the 48 epoch: 98.27\n",
      "\n",
      "Average train loss for the 49 epoch: 0.000\n",
      "\n",
      "\tAverage test accuracy for the 49 epoch: 98.27\n",
      "\n",
      "Average train loss for the 50 epoch: 0.000\n",
      "\n",
      "\tAverage test accuracy for the 50 epoch: 98.27\n",
      "\n"
     ]
    }
   ],
   "source": [
    "session = tf.InteractiveSession()\n",
    "\n",
    "tf.global_variables_initializer().run()\n",
    "\n",
    "NUM_EPOCHS = 50\n",
    "\n",
    "def accuracy(predictions, labels):\n",
    "    ''' Measure the classification accuracy of some predictions (softmax outputs) \n",
    "    and labels (integer class labels)'''\n",
    "    return np.sum(np.argmax(predictions,axis=1).flatten()==labels.flatten())/batch_size\n",
    "\n",
    "test_accuracy_over_time = []\n",
    "train_loss_over_time = []\n",
    "for epoch in range(NUM_EPOCHS):\n",
    "    train_loss = []\n",
    "    \n",
    "    # Training Phase \n",
    "    for step in range(train_inputs.shape[0]//batch_size):\n",
    "        # Creating one-hot encoded labels with labels\n",
    "        # One-hot encoding dight 3 for 10-class MNIST data set will result in\n",
    "        # [0,0,0,1,0,0,0,0,0,0]\n",
    "        labels_one_hot = np.zeros((batch_size, num_labels),dtype=np.float32)\n",
    "        labels_one_hot[np.arange(batch_size),train_labels[step*batch_size:(step+1)*batch_size]] = 1.0\n",
    "        \n",
    "        # Printing the one-hot labels\n",
    "        if epoch ==0 and step==0:\n",
    "            print('Sample labels (one-hot)')\n",
    "            print(labels_one_hot[:10])\n",
    "            print()\n",
    "        \n",
    "        # Running the optimization process\n",
    "        loss, _ = session.run([tf_loss,tf_loss_minimize],feed_dict={\n",
    "            tf_inputs: train_inputs[step*batch_size: (step+1)*batch_size,:],\n",
    "            tf_labels: labels_one_hot}\n",
    "                             )\n",
    "        train_loss.append(loss) # Used to average the loss for a single epoch\n",
    "        \n",
    "    test_accuracy = []\n",
    "    # Testing Phase\n",
    "    for step in range(test_inputs.shape[0]//batch_size):\n",
    "        test_predictions = session.run(tf_predictions,feed_dict={tf_inputs: test_inputs[step*batch_size: (step+1)*batch_size,:]})\n",
    "        batch_test_accuracy = accuracy(test_predictions,test_labels[step*batch_size: (step+1)*batch_size])        \n",
    "        test_accuracy.append(batch_test_accuracy)\n",
    "    \n",
    "    print('Average train loss for the %d epoch: %.3f\\n'%(epoch+1,np.mean(train_loss)))\n",
    "    train_loss_over_time.append(np.mean(train_loss))\n",
    "    print('\\tAverage test accuracy for the %d epoch: %.2f\\n'%(epoch+1,np.mean(test_accuracy)*100.0))\n",
    "    test_accuracy_over_time.append(np.mean(test_accuracy)*100)\n",
    "    \n",
    "session.close()"
   ]
  },
  {
   "cell_type": "markdown",
   "metadata": {},
   "source": [
    "## Visualizing the loss and Accuracy"
   ]
  },
  {
   "cell_type": "code",
   "execution_count": 23,
   "metadata": {},
   "outputs": [
    {
     "data": {
      "image/png": "[encoded data removed]",
      "text/plain": [
       "<matplotlib.figure.Figure at 0x2689d6e27b8>"
      ]
     },
     "metadata": {},
     "output_type": "display_data"
    }
   ],
   "source": [
    "x_axis = np.arange(len(train_loss_over_time))\n",
    "\n",
    "fig, ax = plt.subplots(nrows=1, ncols=2)\n",
    "fig.set_size_inches(w=25,h=5)\n",
    "ax[0].plot(x_axis, train_loss_over_time)\n",
    "ax[0].set_xlabel('Epochs',fontsize=18)\n",
    "ax[0].set_ylabel('Average train loss',fontsize=18)\n",
    "ax[0].set_title('Training Loss over Time',fontsize=20)\n",
    "ax[1].plot(x_axis, test_accuracy_over_time)\n",
    "ax[1].set_xlabel('Epochs',fontsize=18)\n",
    "ax[1].set_ylabel('Test accuracy',fontsize=18)\n",
    "ax[1].set_title('Test Accuracy over Time',fontsize=20)\n",
    "fig.savefig('mnist_stats.jpg')\n"
   ]
  },
  {
   "cell_type": "code",
   "execution_count": null,
   "metadata": {
    "collapsed": true
   },
   "outputs": [],
   "source": []
  },
  {
   "cell_type": "code",
   "execution_count": null,
   "metadata": {
    "collapsed": true
   },
   "outputs": [],
   "source": []
  }
 ],
 "metadata": {
  "kernelspec": {
   "display_name": "Python 3",
   "language": "python",
   "name": "python3"
  },
  "language_info": {
   "codemirror_mode": {
    "name": "ipython",
    "version": 3
   },
   "file_extension": ".py",
   "mimetype": "text/x-python",
   "name": "python",
   "nbconvert_exporter": "python",
   "pygments_lexer": "ipython3",
   "version": "3.7.4"
  }
 },
 "nbformat": 4,
 "nbformat_minor": 2
}
